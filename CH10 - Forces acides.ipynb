{
 "cells": [
  {
   "cell_type": "markdown",
   "metadata": {},
   "source": [
    "# CH8 Forces des acides et des bases"
   ]
  },
  {
   "cell_type": "markdown",
   "metadata": {},
   "source": [
    "L'existence d'acide faible dont la réaction avec l'eau n'est pas totale correspond à un équilibre chimique caractérisé par une constante d'acidité $ K_A $.  \n"
   ]
  },
  {
   "cell_type": "markdown",
   "metadata": {},
   "source": [
    "<div class=\"alert alert-info\" role=\"alert\">\n",
    "  <strong>Travail à faire sur le notebook : </strong> <br>\n",
    "    Pour les cellules suivantes, appuyez sur shift entrée pour lancer le code Python contenu chaque cellule\n",
    "</div>"
   ]
  },
  {
   "cell_type": "markdown",
   "metadata": {},
   "source": [
    "## 1- Déterminer le taux d'avancement final d'une réaction acide sur l'eau\n",
    "\n",
    "On étudie la réaction d'un acide noté $ AH $ avec l'eau $ H_{2}O $ : $ AH + H_{2}O \\rightleftharpoons  A^{-} + H_{3}O^{+} $  \n",
    "\n",
    "La constante d'acidité est donnée par $ K_A = \\frac{\\left[ A^- \\right] * \\left[ H_3O^+ \\right] }{\\left[ AH \\right] } $  \n",
    "\n",
    "\n",
    "Avec un tableau d'avancement, on obtient : $ K_A = \\frac{ \\left( \\frac{x_f}{V} \\right) * \\left( \\frac{x_f}{V} \\right) }{ C_A - \\left( \\frac{x_f}{V} \\right) } $  \n",
    "\n",
    "\n",
    "et ainsi une équation du second degré en $ x_f $ : $ \\frac{1}{V^2} * \\left(  x_f  \\right) ^2 + \\frac{K_A}{V} * x_f  + K_A*C_A = 0 $\n",
    "\n",
    "Pour la suite on considère une solution d'acide faible de pKA connu, de concentration Ca et de volume V"
   ]
  },
  {
   "cell_type": "code",
   "execution_count": null,
   "metadata": {},
   "outputs": [],
   "source": [
    "import math as m # pour la racine carrée\n",
    "import matplotlib.pyplot as plt"
   ]
  },
  {
   "cell_type": "markdown",
   "metadata": {},
   "source": [
    "On définit une fonction qui calculera l'avancement final $ x_f $"
   ]
  },
  {
   "cell_type": "code",
   "execution_count": null,
   "metadata": {},
   "outputs": [],
   "source": [
    "def racines(a, b, c): \n",
    "    delta = b**2-4*a*c # calcule le discriminant\n",
    "    xf1 = (-b-m.sqrt(delta))/(2*a) # première solution\n",
    "    xf2 =                          #deuxième solution\n",
    "    return (xf1,xf2)"
   ]
  },
  {
   "cell_type": "code",
   "execution_count": null,
   "metadata": {},
   "outputs": [],
   "source": [
    "def evolution(Ca, pKa, V): \n",
    "    Ka = 10**(-pKa)\n",
    "    xmax = Ca*V # xmax = Ca*V\n",
    "    # Equation du second degré : (xf/V)**2 + Ka*xf/V-Ka*Ca=0\n",
    "    a =                    # à compléter\n",
    "    b =                    # à compléter\n",
    "    c =                    # à compléter\n",
    "    xf1,xf2 = racines(a,b,c)\n",
    "    \n",
    "    # quelle solution conserver ? comme c est < 0 le produit des 2 racines est négatif donc l'une des 2 est forcément négative, il faut conserver l'autre comme b est positif, c'est forcément celle avec + le discriminant\n",
    "    xf =                   # à compléter\n",
    "    taux = xf/xmax\n",
    "    print(\"L'avancement final vaut \",xf,\" mol\")\n",
    "    print(\"L'avancement maximal vaut\",xmax,\"mol\")\n",
    "    print(\"et le taux d'avancement final vaut \", taux,\" soit \",taux*100,\"%\")\n",
    "    return (xf,xmax,taux)"
   ]
  },
  {
   "cell_type": "markdown",
   "metadata": {},
   "source": [
    "<div class=\"alert alert-warning\" role=\"alert\">\n",
    "    <strong> Compléter le code ci-dessous pour déterminer le taux d'avancement en faisant varier la concentration de l'acide : </strong> <br>\n",
    "    --> Compléter la fiche réponse.\n",
    "    \n",
    "</div>"
   ]
  },
  {
   "cell_type": "code",
   "execution_count": null,
   "metadata": {},
   "outputs": [],
   "source": [
    "pKa = 3.8 # pKa du couple acide faible/base faible\n",
    "Ca = 0.2 # concentration de la solution en acide faible apporté en mol/L  \n",
    "V = 0.010 # Volume de la solution en L\n",
    "\n",
    "xf,xmax,taux=evolution(Ca,pKa,V)\n",
    "\n",
    "print(\"L'avancement final vaut \",xf,\" mol\")\n",
    "print(\"L'avancement maximal vaut\",xmax,\"mol\")\n",
    "print(\"et le taux d'avancement final vaut \", taux,\" soit \",taux*100,\"%\")"
   ]
  },
  {
   "cell_type": "markdown",
   "metadata": {},
   "source": [
    "___"
   ]
  },
  {
   "cell_type": "markdown",
   "metadata": {},
   "source": [
    "## 2 - Tracer un diagramme de distribution des espèces en fonction du pH"
   ]
  },
  {
   "cell_type": "markdown",
   "metadata": {},
   "source": [
    "L'existence d'un équilibre chimique entre les différentes espèces présentes ( acide faible, base faible et ions oxonium) conduit à une variration des proportions entre l'acide et la base en fonction de la valeur du pH.\n"
   ]
  },
  {
   "cell_type": "markdown",
   "metadata": {},
   "source": [
    "<img src=\"images/ka.jpg\" title=\"Théorie\" width=800, height=500, align = center/>"
   ]
  },
  {
   "cell_type": "markdown",
   "metadata": {},
   "source": [
    "<div class=\"alert alert-info\" role=\"alert\">\n",
    "  <strong>Travail à faire sur le notebook : </strong> <br>\n",
    "    Pour les cellules suivantes, appuyez sur shift entrée pour lancer le code Python contenu chaque cellule\n",
    "</div>"
   ]
  },
  {
   "cell_type": "code",
   "execution_count": null,
   "metadata": {},
   "outputs": [],
   "source": [
    "import numpy as np\n",
    "import matplotlib.pyplot as plt"
   ]
  },
  {
   "cell_type": "code",
   "execution_count": null,
   "metadata": {},
   "outputs": [],
   "source": [
    "def pA(pH,pKa): # fonction qui calcule le pourcentage d'acide\n",
    "    return 1/(1+10**(pH-pKa))"
   ]
  },
  {
   "cell_type": "markdown",
   "metadata": {},
   "source": [
    "<div class=\"alert alert-warning\" role=\"alert\">\n",
    "    <strong> Compléter le code ci-dessous pour déterminer le pourcentage d'acide lorsque le pH vaut pKa - 1 puis pKa puis pKa + 1 : </strong> <br>\n",
    "    --> Compléter la fiche réponse.\n",
    "    \n",
    "</div>"
   ]
  },
  {
   "cell_type": "code",
   "execution_count": null,
   "metadata": {},
   "outputs": [],
   "source": [
    "pKa=4.8"
   ]
  },
  {
   "cell_type": "code",
   "execution_count": null,
   "metadata": {},
   "outputs": [],
   "source": [
    "pA(???,pKa)"
   ]
  },
  {
   "cell_type": "markdown",
   "metadata": {},
   "source": [
    "On choisit alors 100 valeurs pour le pH comprise entre 0 et 14"
   ]
  },
  {
   "cell_type": "code",
   "execution_count": null,
   "metadata": {},
   "outputs": [],
   "source": [
    "pH = np.linspace(0,14,100)"
   ]
  },
  {
   "cell_type": "markdown",
   "metadata": {},
   "source": [
    "Le tracé s’opère alors grâce aux commandes de la bibliothèque matplotlib.pyplot :"
   ]
  },
  {
   "cell_type": "code",
   "execution_count": null,
   "metadata": {},
   "outputs": [],
   "source": [
    "pKa=4.8\n",
    "\n",
    "plt.plot(pH,pA(pH,pKa),\"r-\", label='acide')\n",
    "plt.plot(pH,1-pA(pH,pKa),\"b--\", label='base')\n",
    "plt.grid(True)\n",
    "plt.title(\"Diagramme de distribution\")\n",
    "plt.xlabel(\"pH\")\n",
    "plt.ylabel(\"proportions\")\n",
    "plt.legend()\n",
    "plt.show()"
   ]
  },
  {
   "cell_type": "markdown",
   "metadata": {},
   "source": [
    "___"
   ]
  },
  {
   "cell_type": "markdown",
   "metadata": {},
   "source": [
    "## 3 - Cas des acides aminés :  \n",
    "Dans le cas des acides aminés, il y a deux pKA."
   ]
  },
  {
   "cell_type": "markdown",
   "metadata": {},
   "source": [
    "On définit 2 nouvelles fonctions pour calculer les proportions des espèces"
   ]
  },
  {
   "cell_type": "markdown",
   "metadata": {},
   "source": [
    "<div class=\"alert alert-info\" role=\"alert\">\n",
    "  <strong>Travail à faire sur le notebook : </strong> <br>\n",
    "    Pour les cellules suivantes, appuyez sur shift entrée pour lancer le code Python contenu chaque cellule\n",
    "</div>"
   ]
  },
  {
   "cell_type": "code",
   "execution_count": null,
   "metadata": {},
   "outputs": [],
   "source": [
    "def pAH2(x,pKa1,pKa2):\n",
    "    return 1/(1+10**(x-pKa1)++10**(2*x-pKa1-pKa2))\n",
    "\n",
    "def pAH(x,pKa1,pKa2):\n",
    "    return 1/(1+10**(pKa1-x)++10**(x-pKa2))"
   ]
  },
  {
   "cell_type": "markdown",
   "metadata": {},
   "source": [
    "On effectue le tracé :"
   ]
  },
  {
   "cell_type": "code",
   "execution_count": null,
   "metadata": {},
   "outputs": [],
   "source": [
    "pH = np.linspace(0,14,100)\n",
    "pKa1=2.4\n",
    "pKa2=9.6\n",
    "plt.plot(pH,pAH2(pH,pKa1,pKa2),\"b-\",label=\"AH2+\")\n",
    "plt.plot(pH,pAH(pH,pKa1,pKa2),\"g.\",label=\"AH\")\n",
    "plt.plot(pH,1-pAH2(pH,pKa1,pKa2)-pAH(pH,pKa1,pKa2),\"k--\",label=\"A-\")\n",
    "plt.grid(True)\n",
    "plt.xlabel(\"pH\")\n",
    "plt.ylabel(\"proportions\")\n",
    "plt.title(\"Diagramme de distribution pour un acide aminé\")\n",
    "plt.legend()\n",
    "plt.show()"
   ]
  },
  {
   "cell_type": "markdown",
   "metadata": {},
   "source": [
    "On peut utiliser les fonctions créées pour calculer les proportions des espèces :\n",
    "par exemple lorsque pH = pKA1"
   ]
  },
  {
   "cell_type": "code",
   "execution_count": null,
   "metadata": {},
   "outputs": [],
   "source": [
    "pAH2(pKa1,pKa1,pKa2) "
   ]
  }
 ],
 "metadata": {
  "kernelspec": {
   "display_name": "Python 3",
   "language": "python",
   "name": "python3"
  },
  "language_info": {
   "codemirror_mode": {
    "name": "ipython",
    "version": 3
   },
   "file_extension": ".py",
   "mimetype": "text/x-python",
   "name": "python",
   "nbconvert_exporter": "python",
   "pygments_lexer": "ipython3",
   "version": "3.7.9"
  }
 },
 "nbformat": 4,
 "nbformat_minor": 4
}
