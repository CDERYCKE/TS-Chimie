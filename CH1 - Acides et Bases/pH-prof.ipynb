{
 "cells": [
  {
   "cell_type": "markdown",
   "metadata": {},
   "source": [
    "# CH1 - Acides et Bases\n",
    "\n"
   ]
  },
  {
   "cell_type": "markdown",
   "metadata": {},
   "source": [
    "On veut créer une fonction qui calcule le pH si on lui donne la concentration en ions oxonium $ H_{3}O^{+} (aq) $.  \n",
    "La formule est connue : $ pH = - log\\left(   \\frac{[H_{3}O^{+} (aq)]}{c_{0}}  \\right) $"
   ]
  },
  {
   "cell_type": "markdown",
   "metadata": {},
   "source": [
    "<div class=\"alert alert-info\" role=\"alert\">\n",
    "  <strong>Travail à faire sur le notebook : </strong> <br>\n",
    "    Pour les cellules suivantes, il faut éxécuter le code : 2 choix <br>\n",
    "    - appuyez simulaténment sur <strong> shift + entrée</strong> <br>\n",
    "    - ou cliquer sur l'icone Exécuter"
   ]
  },
  {
   "cell_type": "code",
   "execution_count": null,
   "metadata": {},
   "outputs": [],
   "source": [
    "import math as m # cette bibliothèque maths contient les fonctions usuelles de maths"
   ]
  },
  {
   "cell_type": "markdown",
   "metadata": {},
   "source": [
    "On crée une fonction Python qui calcule le pH, pour cela il faut lui fournir un aargument : la concentration"
   ]
  },
  {
   "cell_type": "code",
   "execution_count": null,
   "metadata": {},
   "outputs": [],
   "source": [
    "def pH(concentration):\n",
    "    y = -m.log10(concentration/1)\n",
    "    return y # pour renvoyer le résultat du calcul stocké dans la variable y"
   ]
  },
  {
   "cell_type": "markdown",
   "metadata": {},
   "source": [
    "On teste notre fonction, par exemple avec la valeur $1,0 \\times 10^{-2} \\space mol/L$"
   ]
  },
  {
   "cell_type": "code",
   "execution_count": null,
   "metadata": {},
   "outputs": [],
   "source": [
    "pH(1E-2)"
   ]
  },
  {
   "cell_type": "markdown",
   "metadata": {},
   "source": [
    "On veut créer la fonction réciproque qui permet de calculer la concentration si on connait le pH.  \n",
    "La formule mathématique est connue : $[H_{3}O^{+} (aq)] = 10^{-pH}$  \n",
    "pour effectuer une puissance avec Python, on écrit `x**2` pour $x^2$"
   ]
  },
  {
   "cell_type": "markdown",
   "metadata": {},
   "source": [
    "<div class=\"alert alert-warning\" role=\"alert\">\n",
    "    <strong> Travail à faire : </strong> <br>\n",
    "    --> compléter le code pour calculer la concentration\n",
    "</div>"
   ]
  },
  {
   "cell_type": "code",
   "execution_count": null,
   "metadata": {},
   "outputs": [],
   "source": [
    "def conc(pH):\n",
    "    C = 10**(-pH)\n",
    "    return C"
   ]
  },
  {
   "cell_type": "code",
   "execution_count": null,
   "metadata": {},
   "outputs": [],
   "source": [
    "# test avec un pH de 2, on doit trouver une concentration de 1,0.10^-2 mol/L :\n",
    "conc(2)"
   ]
  },
  {
   "cell_type": "markdown",
   "metadata": {},
   "source": [
    "</div>\n",
    "<div class=\"alert alert-success\" role=\"alert\">\n",
    "  Le travail est terminé ! Bravo !\n",
    "</div>"
   ]
  },
  {
   "cell_type": "code",
   "execution_count": null,
   "metadata": {},
   "outputs": [],
   "source": []
  }
 ],
 "metadata": {
  "kernelspec": {
   "display_name": "Python 3",
   "language": "python",
   "name": "python3"
  },
  "language_info": {
   "codemirror_mode": {
    "name": "ipython",
    "version": 3
   },
   "file_extension": ".py",
   "mimetype": "text/x-python",
   "name": "python",
   "nbconvert_exporter": "python",
   "pygments_lexer": "ipython3",
   "version": "3.7.9"
  }
 },
 "nbformat": 4,
 "nbformat_minor": 4
}
